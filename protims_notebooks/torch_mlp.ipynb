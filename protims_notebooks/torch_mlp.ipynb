{
 "cells": [
  {
   "cell_type": "code",
   "execution_count": 2,
   "metadata": {},
   "outputs": [
    {
     "name": "stdout",
     "output_type": "stream",
     "text": [
      "2.2.2+cpu\n",
      "cpu\n",
      "cpu\n",
      "0\n",
      "0\n",
      "0\n"
     ]
    }
   ],
   "source": [
    "import torch\n",
    "\n",
    "\n",
    "def get_device():\n",
    "    return torch.device(\"cuda\" if torch.cuda.is_available() else \"cpu\")\n",
    "\n",
    "def get_device_name():\n",
    "    return torch.cuda.get_device_name(0) if torch.cuda.is_available() else \"cpu\"\n",
    "\n",
    "def get_device_count():\n",
    "    return torch.cuda.device_count() if torch.cuda.is_available() else 0\n",
    "\n",
    "def get_device_memory():\n",
    "    return torch.cuda.get_device_properties(0).total_memory if torch.cuda.is_available() else 0\n",
    "\n",
    "def get_device_memory_allocated():\n",
    "    return torch.cuda.memory_allocated() if torch.cuda.is_available() else 0\n",
    "\n",
    "print( torch.__version__ )\n",
    "print( get_device() )\n",
    "print( get_device_name() )\n",
    "print( get_device_count() )\n",
    "print( get_device_memory() )\n",
    "print( get_device_memory_allocated() )\n"
   ]
  },
  {
   "cell_type": "code",
   "execution_count": 4,
   "metadata": {},
   "outputs": [],
   "source": [
    "import abc\n",
    "\n",
    "class AbstractLayer(metaclass=abc.ABCMeta):\n",
    "    @abc.abstractmethod\n",
    "    def output(self, input):\n",
    "        \"\"\"Compute the activation values of the neurons in this Layer.\"\"\"\n",
    "        raise NotImplementedError(\"Must override output method\")\n",
    "\n",
    "\n",
    "\n",
    "    @abc.abstractmethod\n",
    "    def reset(self):\n",
    "        \"\"\"Reset the layer.\"\"\"\n",
    "        raise NotImplementedError(\"Must override reset method\")"
   ]
  },
  {
   "cell_type": "code",
   "execution_count": null,
   "metadata": {},
   "outputs": [],
   "source": [
    "#create a class that inherits from the abstract class and the torch.nn.module\n",
    "class BaseLayer(AbstractLayer, torch.nn.Module):\n",
    "    def __init__(self, params: Dict, name: str, node_no: int, transfer: Callable):\n",
    "        super(BaseLayer, self).__init__()\n",
    "        self.params = params\n",
    "        self.name = name\n",
    "        self.node_no = node_no\n",
    "        self.transfer = transfer\n",
    "        self.inputs = None\n",
    "        self.outputs = None\n",
    "        self.biases = torch.nn.Parameter(self.params['BIAS_INIT'](self.node_no), name='B_%s' %(self.name,), trainable=True)\n",
    "    \n",
    "    def __rshift__(self, other ):\n",
    "        print( other )\n",
    "    \n",
    "    def output( self, input ):\n",
    "        print( self.name, self.inputs.output(input).shape, self.biases.shape )\n",
    "        return self.transfer( torch.matmul( self.inputs.output(input), self.biases ) )\n",
    "    \n",
    "    def update( self, optimizer ):\n",
    "        # update the biases\n",
    "        gradient = self.get_gradient()\n",
    "        optimizer.step(gradient)\n",
    "\n",
    "    def get_gradient(self):\n",
    "        return torch.autograd.grad(self.outputs, self.biases, retain_graph=True)[0]\n",
    "    \n",
    "    def reset(self):\n",
    "        self.biases = torch.nn.Parameter(self.params['BIAS_INIT'](self.node_no), name='B_%s' %(self.name,), trainable=True)"
   ]
  },
  {
   "cell_type": "code",
   "execution_count": null,
   "metadata": {},
   "outputs": [],
   "source": [
    "class Layer(BaseLayer):\n",
    "    def __init__(self, params: Dict, name: str, node_no: int, transfer: Callable):\n",
    "        super(Layer, self).__init__(params, name, node_no, transfer)\n",
    "    \n",
    "    def __rshift__( self, other ):\n",
    "        return NN( self, other )"
   ]
  },
  {
   "cell_type": "code",
   "execution_count": null,
   "metadata": {},
   "outputs": [],
   "source": []
  }
 ],
 "metadata": {
  "kernelspec": {
   "display_name": "Python 3",
   "language": "python",
   "name": "python3"
  },
  "language_info": {
   "codemirror_mode": {
    "name": "ipython",
    "version": 3
   },
   "file_extension": ".py",
   "mimetype": "text/x-python",
   "name": "python",
   "nbconvert_exporter": "python",
   "pygments_lexer": "ipython3",
   "version": "3.10.11"
  }
 },
 "nbformat": 4,
 "nbformat_minor": 2
}
